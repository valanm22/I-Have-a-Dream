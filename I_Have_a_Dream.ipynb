{
  "nbformat": 4,
  "nbformat_minor": 0,
  "metadata": {
    "colab": {
      "name": "I Have a Dream.ipynb",
      "provenance": [],
      "collapsed_sections": [],
      "authorship_tag": "ABX9TyPkHYc3fDygSDTG2gyU983I",
      "include_colab_link": true
    },
    "kernelspec": {
      "name": "python3",
      "display_name": "Python 3"
    },
    "language_info": {
      "name": "python"
    }
  },
  "cells": [
    {
      "cell_type": "markdown",
      "metadata": {
        "id": "view-in-github",
        "colab_type": "text"
      },
      "source": [
        "<a href=\"https://colab.research.google.com/github/valanm22/I-Have-a-Dream/blob/main/I_Have_a_Dream.ipynb\" target=\"_parent\"><img src=\"https://colab.research.google.com/assets/colab-badge.svg\" alt=\"Open In Colab\"/></a>"
      ]
    },
    {
      "cell_type": "code",
      "execution_count": 33,
      "metadata": {
        "id": "5O8aztqYdT_t",
        "colab": {
          "base_uri": "https://localhost:8080/"
        },
        "outputId": "243b2875-8c1d-4d13-efc0-d17b3274bc36"
      },
      "outputs": [
        {
          "output_type": "stream",
          "name": "stdout",
          "text": [
            "[nltk_data] Downloading package punkt to /root/nltk_data...\n",
            "[nltk_data]   Unzipping tokenizers/punkt.zip.\n"
          ]
        }
      ],
      "source": [
        "import nltk\n",
        "nltk.download('punkt')\n",
        "import urllib.request\n",
        "from bs4 import BeautifulSoup\n",
        "from nltk import sent_tokenize"
      ]
    },
    {
      "cell_type": "code",
      "source": [
        "url = \"https://kr.usembassy.gov/education-culture/infopedia-usa/living-documents-american-history-democracy/martin-luther-king-jr-dream-speech-1963/#:~:text=sisters%20and%20brothers.-,I%20have%20a%20dream%20today.,flesh%20shall%20see%20it%20together.\"\n",
        "html = urllib.request.urlopen(url)\n",
        "html_parse = BeautifulSoup(html, 'html.parser')\n",
        "\n",
        "speech = \"\"\n",
        "\n",
        "for para in html_parse.find_all(\"p\")[24:67:1]:\n",
        "  speech += para.get_text()"
      ],
      "metadata": {
        "id": "RpxiCgEQsus_"
      },
      "execution_count": 59,
      "outputs": []
    },
    {
      "cell_type": "code",
      "source": [
        ""
      ],
      "metadata": {
        "id": "U3gCMd9k7Q8y"
      },
      "execution_count": null,
      "outputs": []
    }
  ]
}
{
  "nbformat": 4,
  "nbformat_minor": 0,
  "metadata": {
    "colab": {
      "name": "I Have a Dream.ipynb",
      "provenance": [],
      "collapsed_sections": [],
      "authorship_tag": "ABX9TyPCK+9LRhH/Zs+FfpIqUUJx",
      "include_colab_link": true
    },
    "kernelspec": {
      "name": "python3",
      "display_name": "Python 3"
    },
    "language_info": {
      "name": "python"
    }
  },
  "cells": [
    {
      "cell_type": "markdown",
      "metadata": {
        "id": "view-in-github",
        "colab_type": "text"
      },
      "source": [
        "<a href=\"https://colab.research.google.com/github/valanm22/I-Have-a-Dream/blob/main/I_Have_a_Dream.ipynb\" target=\"_parent\"><img src=\"https://colab.research.google.com/assets/colab-badge.svg\" alt=\"Open In Colab\"/></a>"
      ]
    },
    {
      "cell_type": "code",
      "execution_count": 13,
      "metadata": {
        "id": "5O8aztqYdT_t",
        "colab": {
          "base_uri": "https://localhost:8080/"
        },
        "outputId": "13234398-0506-4795-e88f-c50803fdb98f"
      },
      "outputs": [
        {
          "output_type": "stream",
          "name": "stdout",
          "text": [
            "[nltk_data] Downloading package punkt to /root/nltk_data...\n",
            "[nltk_data]   Package punkt is already up-to-date!\n"
          ]
        }
      ],
      "source": [
        "import nltk\n",
        "nltk.download('punkt')\n",
        "import matplotlib.pyplot as plt\n",
        "import urllib.request\n",
        "from bs4 import BeautifulSoup\n",
        "from nltk import sent_tokenize, word_tokenize\n",
        "from nltk.stem.porter import PorterStemmer\n",
        "from wordcloud import STOPWORDS, WordCloud"
      ]
    },
    {
      "cell_type": "code",
      "source": [
        "url = \"https://kr.usembassy.gov/education-culture/infopedia-usa/living-documents-american-history-democracy/martin-luther-king-jr-dream-speech-1963/#:~:text=sisters%20and%20brothers.-,I%20have%20a%20dream%20today.,flesh%20shall%20see%20it%20together.\"\n",
        "html = urllib.request.urlopen(url)\n",
        "html_parse = BeautifulSoup(html, 'html.parser')\n",
        "\n",
        "speech = \"\"\n",
        "\n",
        "for para in html_parse.find_all(\"p\")[24:67:1]:\n",
        "  speech += para.get_text()"
      ],
      "metadata": {
        "id": "RpxiCgEQsus_"
      },
      "execution_count": 3,
      "outputs": []
    },
    {
      "cell_type": "code",
      "source": [
        "tokens = word_tokenize(speech)\n",
        "words = [word for word in tokens if word.isalpha()]\n",
        "print(words)"
      ],
      "metadata": {
        "colab": {
          "base_uri": "https://localhost:8080/"
        },
        "id": "U3gCMd9k7Q8y",
        "outputId": "36eb1cff-6985-4439-898f-38f66e3a091e"
      },
      "execution_count": 4,
      "outputs": [
        {
          "output_type": "stream",
          "name": "stdout",
          "text": [
            "['I', 'am', 'happy', 'to', 'join', 'with', 'you', 'today', 'in', 'what', 'will', 'go', 'down', 'in', 'history', 'as', 'the', 'greatest', 'demonstration', 'for', 'freedom', 'in', 'the', 'history', 'of', 'our', 'score', 'years', 'ago', 'a', 'great', 'American', 'in', 'whose', 'symbolic', 'shadow', 'we', 'stand', 'today', 'signed', 'the', 'Emancipation', 'Proclamation', 'This', 'momentous', 'decree', 'came', 'as', 'a', 'great', 'beacon', 'of', 'hope', 'to', 'millions', 'of', 'slaves', 'who', 'had', 'been', 'seared', 'in', 'the', 'flames', 'of', 'whithering', 'injustice', 'It', 'came', 'as', 'a', 'joyous', 'daybreak', 'to', 'end', 'the', 'long', 'night', 'of', 'their', 'captivity', 'But', 'one', 'hundred', 'years', 'later', 'the', 'colored', 'America', 'is', 'still', 'not', 'free', 'One', 'hundred', 'years', 'later', 'the', 'life', 'of', 'the', 'colored', 'American', 'is', 'still', 'sadly', 'crippled', 'by', 'the', 'manacle', 'of', 'segregation', 'and', 'the', 'chains', 'of', 'hundred', 'years', 'later', 'the', 'colored', 'American', 'lives', 'on', 'a', 'lonely', 'island', 'of', 'poverty', 'in', 'the', 'midst', 'of', 'a', 'vast', 'ocean', 'of', 'material', 'prosperity', 'One', 'hundred', 'years', 'later', 'the', 'colored', 'American', 'is', 'still', 'languishing', 'in', 'the', 'corners', 'of', 'American', 'society', 'and', 'finds', 'himself', 'an', 'exile', 'in', 'his', 'own', 'land', 'So', 'we', 'have', 'come', 'here', 'today', 'to', 'dramatize', 'a', 'shameful', 'a', 'sense', 'we', 'have', 'come', 'to', 'our', 'Nation', 's', 'Capital', 'to', 'cash', 'a', 'check', 'When', 'the', 'architects', 'of', 'our', 'great', 'republic', 'wrote', 'the', 'magnificent', 'words', 'of', 'the', 'Constitution', 'and', 'the', 'Declaration', 'of', 'Independence', 'they', 'were', 'signing', 'a', 'promissory', 'note', 'to', 'which', 'every', 'American', 'was', 'to', 'fall', 'note', 'was', 'a', 'promise', 'that', 'all', 'men', 'yes', 'black', 'men', 'as', 'well', 'as', 'white', 'men', 'would', 'be', 'guaranteed', 'the', 'inalienable', 'rights', 'of', 'life', 'liberty', 'and', 'the', 'pursuit', 'of', 'is', 'obvious', 'today', 'that', 'America', 'has', 'defaulted', 'on', 'this', 'promissory', 'note', 'insofar', 'as', 'her', 'citizens', 'of', 'color', 'are', 'concerned', 'Instead', 'of', 'honoring', 'this', 'sacred', 'obligation', 'America', 'has', 'given', 'its', 'colored', 'people', 'a', 'bad', 'check', 'a', 'check', 'that', 'has', 'come', 'back', 'marked', 'insufficient', 'But', 'we', 'refuse', 'to', 'believe', 'that', 'the', 'bank', 'of', 'justice', 'is', 'bankrupt', 'We', 'refuse', 'to', 'believe', 'that', 'there', 'are', 'insufficient', 'funds', 'in', 'the', 'great', 'vaults', 'of', 'opportunity', 'of', 'this', 'nation', 'So', 'we', 'have', 'come', 'to', 'cash', 'this', 'check', 'a', 'check', 'that', 'will', 'give', 'us', 'upon', 'demand', 'the', 'riches', 'of', 'freedom', 'and', 'security', 'of', 'have', 'also', 'come', 'to', 'his', 'hallowed', 'spot', 'to', 'remind', 'America', 'of', 'the', 'fierce', 'urgency', 'of', 'Now', 'This', 'is', 'not', 'time', 'to', 'engage', 'in', 'the', 'luxury', 'of', 'cooling', 'off', 'or', 'to', 'take', 'the', 'tranquilizing', 'drug', 'of', 'is', 'the', 'time', 'to', 'make', 'real', 'the', 'promise', 'of', 'it', 'the', 'time', 'to', 'rise', 'from', 'the', 'dark', 'and', 'desolate', 'valley', 'of', 'segregation', 'to', 'the', 'sunlit', 'path', 'of', 'racial', 'it', 'the', 'time', 'to', 'lift', 'our', 'nation', 'from', 'the', 'quicksand', 'of', 'racial', 'injustice', 'to', 'the', 'solid', 'rock', 'of', 'is', 'the', 'time', 'to', 'make', 'justice', 'a', 'reality', 'to', 'all', 'of', 'God', 's', 'would', 'be', 'fatal', 'for', 'the', 'nation', 'to', 'overlook', 'the', 'urgency', 'of', 'the', 'moment', 'and', 'to', 'underestimate', 'the', 'determination', 'of', 'it', 's', 'colored', 'citizens', 'This', 'sweltering', 'summer', 'of', 'the', 'colored', 'people', 's', 'legitimate', 'discontent', 'will', 'not', 'pass', 'until', 'there', 'is', 'an', 'invigorating', 'autumn', 'of', 'freedom', 'and', 'equality', 'Nineteen', 'is', 'not', 'an', 'end', 'but', 'a', 'beginning', 'Those', 'who', 'hope', 'that', 'the', 'colored', 'Americans', 'needed', 'to', 'blow', 'off', 'steam', 'and', 'will', 'now', 'be', 'content', 'will', 'have', 'a', 'rude', 'awakening', 'if', 'the', 'nation', 'returns', 'to', 'business', 'as', 'will', 'be', 'neither', 'rest', 'nor', 'tranquility', 'in', 'America', 'until', 'the', 'colored', 'citizen', 'is', 'granted', 'his', 'citizenship', 'rights', 'The', 'whirlwinds', 'of', 'revolt', 'will', 'continue', 'to', 'shake', 'the', 'foundations', 'of', 'our', 'nation', 'until', 'the', 'bright', 'day', 'of', 'justice', 'can', 'never', 'be', 'satisfied', 'as', 'long', 'as', 'our', 'bodies', 'heavy', 'with', 'the', 'fatigue', 'of', 'travel', 'can', 'not', 'gain', 'lodging', 'in', 'the', 'motels', 'of', 'the', 'highways', 'and', 'the', 'hotels', 'of', 'the', 'can', 'not', 'be', 'satisfied', 'as', 'long', 'as', 'the', 'colored', 'person', 's', 'basic', 'mobility', 'is', 'from', 'a', 'smaller', 'ghetto', 'to', 'a', 'larger', 'can', 'never', 'be', 'satisfied', 'as', 'long', 'as', 'our', 'children', 'are', 'stripped', 'of', 'their', 'selfhood', 'and', 'robbed', 'of', 'their', 'dignity', 'by', 'signs', 'stating', 'for', 'white', 'We', 'can', 'not', 'be', 'satisfied', 'as', 'long', 'as', 'a', 'colored', 'person', 'in', 'Mississippi', 'can', 'not', 'vote', 'and', 'a', 'colored', 'person', 'in', 'New', 'York', 'believes', 'he', 'has', 'nothing', 'for', 'which', 'to', 'no', 'we', 'are', 'not', 'satisfied', 'and', 'we', 'will', 'not', 'be', 'satisfied', 'until', 'justice', 'rolls', 'down', 'like', 'waters', 'and', 'righteousness', 'like', 'a', 'mighty', 'am', 'not', 'unmindful', 'that', 'some', 'of', 'you', 'have', 'come', 'here', 'out', 'of', 'your', 'trials', 'and', 'tribulations', 'Some', 'of', 'you', 'have', 'come', 'from', 'areas', 'where', 'your', 'quest', 'for', 'freedom', 'left', 'you', 'battered', 'by', 'storms', 'of', 'persecutions', 'and', 'staggered', 'by', 'the', 'winds', 'of', 'police', 'have', 'been', 'the', 'veterans', 'of', 'creative', 'suffering', 'Continue', 'to', 'work', 'with', 'the', 'faith', 'that', 'unearned', 'suffering', 'is', 'back', 'to', 'Mississippi', 'go', 'back', 'to', 'Alabama', 'go', 'back', 'to', 'South', 'Carolina', 'go', 'back', 'to', 'Georgia', 'go', 'back', 'to', 'Louisiana', 'go', 'back', 'to', 'the', 'slums', 'and', 'ghettos', 'of', 'our', 'modern', 'cities', 'knowing', 'that', 'somehow', 'this', 'situation', 'can', 'and', 'will', 'be', 'us', 'not', 'wallow', 'in', 'the', 'valley', 'of', 'despair', 'I', 'say', 'to', 'you', 'my', 'friends', 'we', 'have', 'the', 'difficulties', 'of', 'today', 'and', 'still', 'have', 'a', 'dream', 'It', 'is', 'a', 'dream', 'deeply', 'rooted', 'in', 'the', 'American', 'have', 'a', 'dream', 'that', 'one', 'day', 'this', 'nation', 'will', 'rise', 'up', 'and', 'live', 'out', 'the', 'true', 'meaning', 'of', 'its', 'creed', 'We', 'hold', 'these', 'truths', 'to', 'be', 'that', 'all', 'men', 'are', 'created', 'have', 'a', 'dream', 'that', 'one', 'day', 'out', 'in', 'the', 'red', 'hills', 'of', 'Georgia', 'the', 'sons', 'of', 'former', 'slaves', 'and', 'the', 'sons', 'of', 'former', 'slaveowners', 'will', 'be', 'able', 'to', 'sit', 'down', 'together', 'at', 'the', 'table', 'of', 'have', 'a', 'dream', 'that', 'one', 'day', 'even', 'the', 'state', 'of', 'Mississippi', 'a', 'state', 'sweltering', 'with', 'the', 'heat', 'of', 'oppression', 'will', 'be', 'transformed', 'into', 'an', 'oasis', 'of', 'freedom', 'and', 'have', 'a', 'dream', 'that', 'my', 'four', 'little', 'children', 'will', 'one', 'day', 'live', 'in', 'a', 'nation', 'where', 'they', 'will', 'not', 'be', 'judged', 'by', 'the', 'color', 'of', 'their', 'skin', 'but', 'by', 'their', 'have', 'a', 'dream', 'have', 'a', 'dream', 'that', 'one', 'day', 'down', 'in', 'Alabama', 'with', 'its', 'vicious', 'racists', 'with', 'its', 'governor', 'having', 'his', 'lips', 'dripping', 'with', 'the', 'words', 'of', 'interposition', 'and', 'nullification', 'that', 'one', 'day', 'right', 'down', 'in', 'Alabama', 'little', 'black', 'boys', 'and', 'black', 'girls', 'will', 'be', 'able', 'to', 'join', 'hands', 'with', 'little', 'white', 'boys', 'and', 'white', 'girls', 'as', 'sisters', 'and', 'have', 'a', 'dream', 'have', 'a', 'dream', 'that', 'one', 'day', 'every', 'valley', 'shall', 'be', 'engulfed', 'every', 'hill', 'shall', 'be', 'exalted', 'and', 'every', 'mountain', 'shall', 'be', 'made', 'low', 'the', 'rough', 'places', 'will', 'be', 'made', 'plains', 'and', 'the', 'crooked', 'places', 'will', 'be', 'made', 'straight', 'and', 'the', 'glory', 'of', 'the', 'Lord', 'shall', 'be', 'revealed', 'and', 'all', 'flesh', 'shall', 'see', 'it', 'is', 'our', 'hope', 'This', 'is', 'the', 'faith', 'that', 'I', 'will', 'go', 'back', 'to', 'the', 'South', 'with', 'With', 'this', 'faith', 'we', 'will', 'be', 'able', 'to', 'hew', 'out', 'of', 'the', 'mountain', 'of', 'despair', 'a', 'stone', 'of', 'this', 'faith', 'we', 'will', 'be', 'able', 'to', 'transform', 'the', 'jangling', 'discords', 'of', 'our', 'nation', 'into', 'a', 'beautiful', 'symphony', 'of', 'this', 'faith', 'we', 'will', 'be', 'able', 'to', 'work', 'together', 'to', 'pray', 'together', 'to', 'struggle', 'together', 'to', 'go', 'to', 'jail', 'together', 'to', 'climb', 'up', 'for', 'freedom', 'together', 'knowing', 'that', 'we', 'will', 'be', 'free', 'one', 'will', 'be', 'the', 'day', 'when', 'all', 'of', 'God', 's', 'children', 'will', 'be', 'able', 'to', 'sing', 'with', 'new', 'meaning', 'My', 'country', 'tis', 'of', 'thee', 'sweet', 'land', 'of', 'liberty', 'of', 'thee', 'I', 'sing', 'Land', 'where', 'my', 'father', 's', 'died', 'land', 'of', 'the', 'Pilgrim', 's', 'pride', 'from', 'every', 'mountainside', 'let', 'freedom', 'ring', 'And', 'if', 'America', 'is', 'to', 'be', 'a', 'great', 'nation', 'this', 'must', 'become', 'true', 'So', 'let', 'freedom', 'ring', 'from', 'the', 'hilltops', 'of', 'New', 'Hampshire', 'Let', 'freedom', 'ring', 'from', 'the', 'mighty', 'mountains', 'of', 'New', 'freedom', 'ring', 'from', 'the', 'heightening', 'Alleghenies', 'of', 'freedom', 'ring', 'from', 'the', 'Rockies', 'of', 'freedom', 'ring', 'from', 'the', 'curvaceous', 'slopes', 'of', 'not', 'only', 'that', 'let', 'freedom', 'ring', 'from', 'Stone', 'Mountain', 'of', 'freedom', 'ring', 'from', 'every', 'hill', 'and', 'molehill', 'of', 'Mississippi', 'and', 'every', 'we', 'let', 'freedom', 'ring', 'when', 'we', 'let', 'it', 'ring', 'from', 'every', 'tenement', 'and', 'every', 'hamlet', 'from', 'every', 'state', 'and', 'every', 'city', 'we', 'will', 'be', 'able', 'to', 'speed', 'up', 'that', 'day', 'when', 'all', 'of', 'God', 's', 'children', 'black', 'men', 'and', 'white', 'men', 'Jews', 'and', 'Gentiles', 'Protestants', 'and', 'Catholics', 'will', 'be', 'able', 'to', 'join', 'hands', 'and', 'sing', 'in', 'the', 'words', 'of', 'the', 'old', 'spiritual', 'Free', 'at', 'last', 'free', 'at', 'last', 'Thank', 'God', 'Almighty', 'we', 'are', 'free', 'at', 'last']\n"
          ]
        }
      ]
    },
    {
      "cell_type": "code",
      "source": [
        "words = [word.lower() for word in words]\n",
        "print(words)"
      ],
      "metadata": {
        "colab": {
          "base_uri": "https://localhost:8080/"
        },
        "id": "lbvPvgc6FE6Z",
        "outputId": "00dce36b-c5d0-4ed0-8c2c-8193cffd4682"
      },
      "execution_count": 6,
      "outputs": [
        {
          "output_type": "stream",
          "name": "stdout",
          "text": [
            "['i', 'am', 'happy', 'to', 'join', 'with', 'you', 'today', 'in', 'what', 'will', 'go', 'down', 'in', 'history', 'as', 'the', 'greatest', 'demonstration', 'for', 'freedom', 'in', 'the', 'history', 'of', 'our', 'score', 'years', 'ago', 'a', 'great', 'american', 'in', 'whose', 'symbolic', 'shadow', 'we', 'stand', 'today', 'signed', 'the', 'emancipation', 'proclamation', 'this', 'momentous', 'decree', 'came', 'as', 'a', 'great', 'beacon', 'of', 'hope', 'to', 'millions', 'of', 'slaves', 'who', 'had', 'been', 'seared', 'in', 'the', 'flames', 'of', 'whithering', 'injustice', 'it', 'came', 'as', 'a', 'joyous', 'daybreak', 'to', 'end', 'the', 'long', 'night', 'of', 'their', 'captivity', 'but', 'one', 'hundred', 'years', 'later', 'the', 'colored', 'america', 'is', 'still', 'not', 'free', 'one', 'hundred', 'years', 'later', 'the', 'life', 'of', 'the', 'colored', 'american', 'is', 'still', 'sadly', 'crippled', 'by', 'the', 'manacle', 'of', 'segregation', 'and', 'the', 'chains', 'of', 'hundred', 'years', 'later', 'the', 'colored', 'american', 'lives', 'on', 'a', 'lonely', 'island', 'of', 'poverty', 'in', 'the', 'midst', 'of', 'a', 'vast', 'ocean', 'of', 'material', 'prosperity', 'one', 'hundred', 'years', 'later', 'the', 'colored', 'american', 'is', 'still', 'languishing', 'in', 'the', 'corners', 'of', 'american', 'society', 'and', 'finds', 'himself', 'an', 'exile', 'in', 'his', 'own', 'land', 'so', 'we', 'have', 'come', 'here', 'today', 'to', 'dramatize', 'a', 'shameful', 'a', 'sense', 'we', 'have', 'come', 'to', 'our', 'nation', 's', 'capital', 'to', 'cash', 'a', 'check', 'when', 'the', 'architects', 'of', 'our', 'great', 'republic', 'wrote', 'the', 'magnificent', 'words', 'of', 'the', 'constitution', 'and', 'the', 'declaration', 'of', 'independence', 'they', 'were', 'signing', 'a', 'promissory', 'note', 'to', 'which', 'every', 'american', 'was', 'to', 'fall', 'note', 'was', 'a', 'promise', 'that', 'all', 'men', 'yes', 'black', 'men', 'as', 'well', 'as', 'white', 'men', 'would', 'be', 'guaranteed', 'the', 'inalienable', 'rights', 'of', 'life', 'liberty', 'and', 'the', 'pursuit', 'of', 'is', 'obvious', 'today', 'that', 'america', 'has', 'defaulted', 'on', 'this', 'promissory', 'note', 'insofar', 'as', 'her', 'citizens', 'of', 'color', 'are', 'concerned', 'instead', 'of', 'honoring', 'this', 'sacred', 'obligation', 'america', 'has', 'given', 'its', 'colored', 'people', 'a', 'bad', 'check', 'a', 'check', 'that', 'has', 'come', 'back', 'marked', 'insufficient', 'but', 'we', 'refuse', 'to', 'believe', 'that', 'the', 'bank', 'of', 'justice', 'is', 'bankrupt', 'we', 'refuse', 'to', 'believe', 'that', 'there', 'are', 'insufficient', 'funds', 'in', 'the', 'great', 'vaults', 'of', 'opportunity', 'of', 'this', 'nation', 'so', 'we', 'have', 'come', 'to', 'cash', 'this', 'check', 'a', 'check', 'that', 'will', 'give', 'us', 'upon', 'demand', 'the', 'riches', 'of', 'freedom', 'and', 'security', 'of', 'have', 'also', 'come', 'to', 'his', 'hallowed', 'spot', 'to', 'remind', 'america', 'of', 'the', 'fierce', 'urgency', 'of', 'now', 'this', 'is', 'not', 'time', 'to', 'engage', 'in', 'the', 'luxury', 'of', 'cooling', 'off', 'or', 'to', 'take', 'the', 'tranquilizing', 'drug', 'of', 'is', 'the', 'time', 'to', 'make', 'real', 'the', 'promise', 'of', 'it', 'the', 'time', 'to', 'rise', 'from', 'the', 'dark', 'and', 'desolate', 'valley', 'of', 'segregation', 'to', 'the', 'sunlit', 'path', 'of', 'racial', 'it', 'the', 'time', 'to', 'lift', 'our', 'nation', 'from', 'the', 'quicksand', 'of', 'racial', 'injustice', 'to', 'the', 'solid', 'rock', 'of', 'is', 'the', 'time', 'to', 'make', 'justice', 'a', 'reality', 'to', 'all', 'of', 'god', 's', 'would', 'be', 'fatal', 'for', 'the', 'nation', 'to', 'overlook', 'the', 'urgency', 'of', 'the', 'moment', 'and', 'to', 'underestimate', 'the', 'determination', 'of', 'it', 's', 'colored', 'citizens', 'this', 'sweltering', 'summer', 'of', 'the', 'colored', 'people', 's', 'legitimate', 'discontent', 'will', 'not', 'pass', 'until', 'there', 'is', 'an', 'invigorating', 'autumn', 'of', 'freedom', 'and', 'equality', 'nineteen', 'is', 'not', 'an', 'end', 'but', 'a', 'beginning', 'those', 'who', 'hope', 'that', 'the', 'colored', 'americans', 'needed', 'to', 'blow', 'off', 'steam', 'and', 'will', 'now', 'be', 'content', 'will', 'have', 'a', 'rude', 'awakening', 'if', 'the', 'nation', 'returns', 'to', 'business', 'as', 'will', 'be', 'neither', 'rest', 'nor', 'tranquility', 'in', 'america', 'until', 'the', 'colored', 'citizen', 'is', 'granted', 'his', 'citizenship', 'rights', 'the', 'whirlwinds', 'of', 'revolt', 'will', 'continue', 'to', 'shake', 'the', 'foundations', 'of', 'our', 'nation', 'until', 'the', 'bright', 'day', 'of', 'justice', 'can', 'never', 'be', 'satisfied', 'as', 'long', 'as', 'our', 'bodies', 'heavy', 'with', 'the', 'fatigue', 'of', 'travel', 'can', 'not', 'gain', 'lodging', 'in', 'the', 'motels', 'of', 'the', 'highways', 'and', 'the', 'hotels', 'of', 'the', 'can', 'not', 'be', 'satisfied', 'as', 'long', 'as', 'the', 'colored', 'person', 's', 'basic', 'mobility', 'is', 'from', 'a', 'smaller', 'ghetto', 'to', 'a', 'larger', 'can', 'never', 'be', 'satisfied', 'as', 'long', 'as', 'our', 'children', 'are', 'stripped', 'of', 'their', 'selfhood', 'and', 'robbed', 'of', 'their', 'dignity', 'by', 'signs', 'stating', 'for', 'white', 'we', 'can', 'not', 'be', 'satisfied', 'as', 'long', 'as', 'a', 'colored', 'person', 'in', 'mississippi', 'can', 'not', 'vote', 'and', 'a', 'colored', 'person', 'in', 'new', 'york', 'believes', 'he', 'has', 'nothing', 'for', 'which', 'to', 'no', 'we', 'are', 'not', 'satisfied', 'and', 'we', 'will', 'not', 'be', 'satisfied', 'until', 'justice', 'rolls', 'down', 'like', 'waters', 'and', 'righteousness', 'like', 'a', 'mighty', 'am', 'not', 'unmindful', 'that', 'some', 'of', 'you', 'have', 'come', 'here', 'out', 'of', 'your', 'trials', 'and', 'tribulations', 'some', 'of', 'you', 'have', 'come', 'from', 'areas', 'where', 'your', 'quest', 'for', 'freedom', 'left', 'you', 'battered', 'by', 'storms', 'of', 'persecutions', 'and', 'staggered', 'by', 'the', 'winds', 'of', 'police', 'have', 'been', 'the', 'veterans', 'of', 'creative', 'suffering', 'continue', 'to', 'work', 'with', 'the', 'faith', 'that', 'unearned', 'suffering', 'is', 'back', 'to', 'mississippi', 'go', 'back', 'to', 'alabama', 'go', 'back', 'to', 'south', 'carolina', 'go', 'back', 'to', 'georgia', 'go', 'back', 'to', 'louisiana', 'go', 'back', 'to', 'the', 'slums', 'and', 'ghettos', 'of', 'our', 'modern', 'cities', 'knowing', 'that', 'somehow', 'this', 'situation', 'can', 'and', 'will', 'be', 'us', 'not', 'wallow', 'in', 'the', 'valley', 'of', 'despair', 'i', 'say', 'to', 'you', 'my', 'friends', 'we', 'have', 'the', 'difficulties', 'of', 'today', 'and', 'still', 'have', 'a', 'dream', 'it', 'is', 'a', 'dream', 'deeply', 'rooted', 'in', 'the', 'american', 'have', 'a', 'dream', 'that', 'one', 'day', 'this', 'nation', 'will', 'rise', 'up', 'and', 'live', 'out', 'the', 'true', 'meaning', 'of', 'its', 'creed', 'we', 'hold', 'these', 'truths', 'to', 'be', 'that', 'all', 'men', 'are', 'created', 'have', 'a', 'dream', 'that', 'one', 'day', 'out', 'in', 'the', 'red', 'hills', 'of', 'georgia', 'the', 'sons', 'of', 'former', 'slaves', 'and', 'the', 'sons', 'of', 'former', 'slaveowners', 'will', 'be', 'able', 'to', 'sit', 'down', 'together', 'at', 'the', 'table', 'of', 'have', 'a', 'dream', 'that', 'one', 'day', 'even', 'the', 'state', 'of', 'mississippi', 'a', 'state', 'sweltering', 'with', 'the', 'heat', 'of', 'oppression', 'will', 'be', 'transformed', 'into', 'an', 'oasis', 'of', 'freedom', 'and', 'have', 'a', 'dream', 'that', 'my', 'four', 'little', 'children', 'will', 'one', 'day', 'live', 'in', 'a', 'nation', 'where', 'they', 'will', 'not', 'be', 'judged', 'by', 'the', 'color', 'of', 'their', 'skin', 'but', 'by', 'their', 'have', 'a', 'dream', 'have', 'a', 'dream', 'that', 'one', 'day', 'down', 'in', 'alabama', 'with', 'its', 'vicious', 'racists', 'with', 'its', 'governor', 'having', 'his', 'lips', 'dripping', 'with', 'the', 'words', 'of', 'interposition', 'and', 'nullification', 'that', 'one', 'day', 'right', 'down', 'in', 'alabama', 'little', 'black', 'boys', 'and', 'black', 'girls', 'will', 'be', 'able', 'to', 'join', 'hands', 'with', 'little', 'white', 'boys', 'and', 'white', 'girls', 'as', 'sisters', 'and', 'have', 'a', 'dream', 'have', 'a', 'dream', 'that', 'one', 'day', 'every', 'valley', 'shall', 'be', 'engulfed', 'every', 'hill', 'shall', 'be', 'exalted', 'and', 'every', 'mountain', 'shall', 'be', 'made', 'low', 'the', 'rough', 'places', 'will', 'be', 'made', 'plains', 'and', 'the', 'crooked', 'places', 'will', 'be', 'made', 'straight', 'and', 'the', 'glory', 'of', 'the', 'lord', 'shall', 'be', 'revealed', 'and', 'all', 'flesh', 'shall', 'see', 'it', 'is', 'our', 'hope', 'this', 'is', 'the', 'faith', 'that', 'i', 'will', 'go', 'back', 'to', 'the', 'south', 'with', 'with', 'this', 'faith', 'we', 'will', 'be', 'able', 'to', 'hew', 'out', 'of', 'the', 'mountain', 'of', 'despair', 'a', 'stone', 'of', 'this', 'faith', 'we', 'will', 'be', 'able', 'to', 'transform', 'the', 'jangling', 'discords', 'of', 'our', 'nation', 'into', 'a', 'beautiful', 'symphony', 'of', 'this', 'faith', 'we', 'will', 'be', 'able', 'to', 'work', 'together', 'to', 'pray', 'together', 'to', 'struggle', 'together', 'to', 'go', 'to', 'jail', 'together', 'to', 'climb', 'up', 'for', 'freedom', 'together', 'knowing', 'that', 'we', 'will', 'be', 'free', 'one', 'will', 'be', 'the', 'day', 'when', 'all', 'of', 'god', 's', 'children', 'will', 'be', 'able', 'to', 'sing', 'with', 'new', 'meaning', 'my', 'country', 'tis', 'of', 'thee', 'sweet', 'land', 'of', 'liberty', 'of', 'thee', 'i', 'sing', 'land', 'where', 'my', 'father', 's', 'died', 'land', 'of', 'the', 'pilgrim', 's', 'pride', 'from', 'every', 'mountainside', 'let', 'freedom', 'ring', 'and', 'if', 'america', 'is', 'to', 'be', 'a', 'great', 'nation', 'this', 'must', 'become', 'true', 'so', 'let', 'freedom', 'ring', 'from', 'the', 'hilltops', 'of', 'new', 'hampshire', 'let', 'freedom', 'ring', 'from', 'the', 'mighty', 'mountains', 'of', 'new', 'freedom', 'ring', 'from', 'the', 'heightening', 'alleghenies', 'of', 'freedom', 'ring', 'from', 'the', 'rockies', 'of', 'freedom', 'ring', 'from', 'the', 'curvaceous', 'slopes', 'of', 'not', 'only', 'that', 'let', 'freedom', 'ring', 'from', 'stone', 'mountain', 'of', 'freedom', 'ring', 'from', 'every', 'hill', 'and', 'molehill', 'of', 'mississippi', 'and', 'every', 'we', 'let', 'freedom', 'ring', 'when', 'we', 'let', 'it', 'ring', 'from', 'every', 'tenement', 'and', 'every', 'hamlet', 'from', 'every', 'state', 'and', 'every', 'city', 'we', 'will', 'be', 'able', 'to', 'speed', 'up', 'that', 'day', 'when', 'all', 'of', 'god', 's', 'children', 'black', 'men', 'and', 'white', 'men', 'jews', 'and', 'gentiles', 'protestants', 'and', 'catholics', 'will', 'be', 'able', 'to', 'join', 'hands', 'and', 'sing', 'in', 'the', 'words', 'of', 'the', 'old', 'spiritual', 'free', 'at', 'last', 'free', 'at', 'last', 'thank', 'god', 'almighty', 'we', 'are', 'free', 'at', 'last']\n"
          ]
        }
      ]
    },
    {
      "cell_type": "code",
      "source": [
        ""
      ],
      "metadata": {
        "id": "gVkRP3fVGkVI"
      },
      "execution_count": 15,
      "outputs": []
    }
  ]
}
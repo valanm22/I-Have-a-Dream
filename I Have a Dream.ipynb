{
  "nbformat": 4,
  "nbformat_minor": 0,
  "metadata": {
    "colab": {
      "name": "I Have a Dream.ipynb",
      "provenance": [],
      "collapsed_sections": [],
      "authorship_tag": "ABX9TyMWiIqQOfjJb6pZsAT/oOLK",
      "include_colab_link": true
    },
    "kernelspec": {
      "name": "python3",
      "display_name": "Python 3"
    },
    "language_info": {
      "name": "python"
    }
  },
  "cells": [
    {
      "cell_type": "markdown",
      "metadata": {
        "id": "view-in-github",
        "colab_type": "text"
      },
      "source": [
        "<a href=\"https://colab.research.google.com/github/valanm22/I-Have-a-Dream/blob/main/I%20Have%20a%20Dream.ipynb\" target=\"_parent\"><img src=\"https://colab.research.google.com/assets/colab-badge.svg\" alt=\"Open In Colab\"/></a>"
      ]
    },
    {
      "cell_type": "code",
      "execution_count": 1,
      "metadata": {
        "id": "5O8aztqYdT_t",
        "colab": {
          "base_uri": "https://localhost:8080/"
        },
        "outputId": "1c4f683e-fbdf-4913-dd6f-c5020a8fc4f7"
      },
      "outputs": [
        {
          "output_type": "stream",
          "name": "stdout",
          "text": [
            "[nltk_data] Downloading package punkt to /root/nltk_data...\n",
            "[nltk_data]   Unzipping tokenizers/punkt.zip.\n"
          ]
        }
      ],
      "source": [
        "import nltk\n",
        "nltk.download('punkt')\n",
        "import matplotlib.pyplot as plt\n",
        "import pandas as pd\n",
        "import numpy as np\n",
        "import urllib.request\n",
        "from bs4 import BeautifulSoup\n",
        "from nltk import sent_tokenize, word_tokenize\n",
        "from nltk.stem.porter import PorterStemmer\n",
        "from PIL import Image\n",
        "from wordcloud import STOPWORDS, WordCloud"
      ]
    },
    {
      "cell_type": "code",
      "source": [
        "url = 'http://www.let.rug.nl/usa/documents/1951-/martin-luther-kings-i-have-a-dream-speech-august-28-1963.php'\n",
        "html = urllib.request.urlopen(url)\n",
        "html_parse = BeautifulSoup(html, 'html.parser')\n",
        "#print(html_parse)"
      ],
      "metadata": {
        "id": "RpxiCgEQsus_"
      },
      "execution_count": 18,
      "outputs": []
    },
    {
      "cell_type": "code",
      "source": [
        "paragraph = html_parse.find('p')\n",
        "#print(paragraph.get_text())"
      ],
      "metadata": {
        "id": "U3gCMd9k7Q8y"
      },
      "execution_count": 32,
      "outputs": []
    }
  ]
}